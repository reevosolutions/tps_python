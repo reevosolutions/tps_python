{
  "cells": [
    {
      "cell_type": "markdown",
      "metadata": {},
      "source": [
        "# TP4 : Traitement d'Images Numériques en Python\n",
        "\n",
        "Ce TP est dédié à l'apprentissage des bases du traitement d'images en utilisant Python."
      ]
    },
    {
      "cell_type": "markdown",
      "metadata": {},
      "source": [
        "## Partie 1 : Manipulation d'images"
      ]
    },
    {
      "cell_type": "code",
      "execution_count": 13,
      "metadata": {},
      "outputs": [
        {
          "name": "stdout",
          "output_type": "stream",
          "text": [
            "Format: JPEG\n",
            "Mode: RGB\n",
            "Taille: (2560, 1708)\n"
          ]
        }
      ],
      "source": [
        "from PIL import Image\n",
        "\n",
        "# Ouvrir une image\n",
        "img = Image.open('./img.jpg')\n",
        "img.show()\n",
        "\n",
        "# Afficher les informations de l'image\n",
        "print('Format:', img.format)\n",
        "print('Mode:', img.mode)\n",
        "print('Taille:', img.size)"
      ]
    },
    {
      "cell_type": "markdown",
      "metadata": {},
      "source": [
        "## Partie 2 : Transformation d'images"
      ]
    },
    {
      "cell_type": "code",
      "execution_count": 17,
      "metadata": {},
      "outputs": [],
      "source": [
        "# Convertir l'image en niveaux de gris\n",
        "img_gray = img.convert('L')\n",
        "img_gray.show()\n",
        "\n",
        "# Sauvegarder l'image transformée\n",
        "img_gray.save('path_to_save_gray_image.jpg')"
      ]
    },
    {
      "cell_type": "markdown",
      "metadata": {},
      "source": [
        "## Partie 3 : Analyse d'images"
      ]
    },
    {
      "cell_type": "code",
      "execution_count": 20,
      "metadata": {},
      "outputs": [
        {
          "data": {
            "image/png": "[encoded data removed]",
            "text/plain": [
              "<Figure size 640x480 with 1 Axes>"
            ]
          },
          "metadata": {},
          "output_type": "display_data"
        }
      ],
      "source": [
        "import matplotlib.pyplot as plt\n",
        "\n",
        "# Afficher l'histogramme de l'image en niveaux de gris\n",
        "plt.hist(img_gray.histogram(), bins=256, range=(0,256), density=True)\n",
        "plt.title('Histogramme de l\\'image en niveaux de gris')\n",
        "plt.show()"
      ]
    }
  ],
  "metadata": {
    "kernelspec": {
      "display_name": "lfm",
      "language": "python",
      "name": "python3"
    },
    "language_info": {
      "codemirror_mode": {
        "name": "ipython",
        "version": 3
      },
      "file_extension": ".py",
      "mimetype": "text/x-python",
      "name": "python",
      "nbconvert_exporter": "python",
      "pygments_lexer": "ipython3",
      "version": "3.11.6"
    }
  },
  "nbformat": 4,
  "nbformat_minor": 4
}
