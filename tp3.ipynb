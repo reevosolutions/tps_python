{
 "cells": [
  {
   "cell_type": "markdown",
   "metadata": {},
   "source": [
    "# TP3 : Programmation Orientée Objets en Python\n",
    "\n",
    "Ce TP vise à approfondir la compréhension de la programmation orientée objets (POO) en utilisant Python pour modéliser différentes classes et exploiter l'héritage."
   ]
  },
  {
   "cell_type": "markdown",
   "metadata": {},
   "source": [
    "## Exercice 1 : Organiser et encapsuler son code en classes et méthodes\n",
    "Définition d'une classe `Personne` avec des méthodes pour se déplacer."
   ]
  },
  {
   "cell_type": "code",
   "execution_count": 1,
   "metadata": {},
   "outputs": [
    {
     "name": "stdout",
     "output_type": "stream",
     "text": [
      "Alice est à la position 0\n",
      "Bob est à la position 10\n",
      "Alice est à la position 5\n",
      "Bob est à la position 7\n"
     ]
    }
   ],
   "source": [
    "class Personne:\n",
    "    def __init__(self, nom, position):\n",
    "        self.nom = nom\n",
    "        self.position = position\n",
    "\n",
    "    def __repr__(self):\n",
    "        return f'{self.nom} est à la position {self.position}'\n",
    "\n",
    "    def avancer_d(self, pas):\n",
    "        self.position += pas\n",
    "\n",
    "    def avancer_g(self, pas):\n",
    "        self.position -= pas\n",
    "\n",
    "personne1 = Personne('Alice', 0)\n",
    "personne2 = Personne('Bob', 10)\n",
    "print(personne1)\n",
    "print(personne2)\n",
    "personne1.avancer_d(5)\n",
    "personne2.avancer_g(3)\n",
    "print(personne1)\n",
    "print(personne2)"
   ]
  },
  {
   "cell_type": "markdown",
   "metadata": {},
   "source": [
    "## Exercice 2 : Instancier et hériter d'une classe\n",
    "Définition d'une classe `Etudiant` qui hérite de `Personne`."
   ]
  },
  {
   "cell_type": "code",
   "execution_count": 2,
   "metadata": {},
   "outputs": [
    {
     "name": "stdout",
     "output_type": "stream",
     "text": [
      "Charlie est étudiant à Université de Python et est à la position 20\n"
     ]
    }
   ],
   "source": [
    "class Etudiant(Personne):\n",
    "    def __init__(self, nom, position, universite):\n",
    "        super().__init__(nom, position)\n",
    "        self.universite = universite\n",
    "\n",
    "    def __repr__(self):\n",
    "        return f'{self.nom} est étudiant à {self.universite} et est à la position {self.position}'\n",
    "\n",
    "etudiant1 = Etudiant('Charlie', 20, 'Université de Python')\n",
    "print(etudiant1)"
   ]
  },
  {
   "cell_type": "markdown",
   "metadata": {},
   "source": [
    "## Exercice 3 : Héritage multiple\n",
    "Définition d'une classe `Retraite` qui illustre l'héritage multiple."
   ]
  },
  {
   "cell_type": "code",
   "execution_count": 3,
   "metadata": {},
   "outputs": [
    {
     "name": "stdout",
     "output_type": "stream",
     "text": [
      "Diana est retraité, était professeur et est à la position 30\n"
     ]
    }
   ],
   "source": [
    "class Retraite(Personne):\n",
    "    def __init__(self, nom, position, retraite_type):\n",
    "        super().__init__(nom, position)\n",
    "        self.retraite_type = retraite_type\n",
    "\n",
    "    def __repr__(self):\n",
    "        return f'{self.nom} est retraité, était {self.retraite_type} et est à la position {self.position}'\n",
    "\n",
    "retraite1 = Retraite('Diana', 30, 'professeur')\n",
    "print(retraite1)"
   ]
  }
 ],
 "metadata": {
  "kernelspec": {
   "display_name": "lfm",
   "language": "python",
   "name": "python3"
  },
  "language_info": {
   "codemirror_mode": {
    "name": "ipython",
    "version": 3
   },
   "file_extension": ".py",
   "mimetype": "text/x-python",
   "name": "python",
   "nbconvert_exporter": "python",
   "pygments_lexer": "ipython3",
   "version": "3.11.6"
  }
 },
 "nbformat": 4,
 "nbformat_minor": 4
}
