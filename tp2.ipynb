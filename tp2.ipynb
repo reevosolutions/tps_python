{
 "cells": [
  {
   "cell_type": "markdown",
   "metadata": {},
   "source": [
    "# TP2 : Chiffrement de César en Python\n",
    "\n",
    "Ce TP est dédié à l'implémentation et à l'utilisation du chiffrement de César, une des plus anciennes méthodes de cryptographie."
   ]
  },
  {
   "cell_type": "markdown",
   "metadata": {},
   "source": [
    "## Partie I : Chiffrement et Déchiffrement"
   ]
  },
  {
   "cell_type": "code",
   "execution_count": 9,
   "metadata": {},
   "outputs": [
    {
     "name": "stdout",
     "output_type": "stream",
     "text": [
      "Texte chiffré: Fsrnsyv !\n",
      "Texte déchiffré: Bonjour !\n"
     ]
    }
   ],
   "source": [
    "def chiffrer_texte(texte, decalage):\n",
    "    chiffre = ''\n",
    "    for char in texte:\n",
    "        if char.isalpha():\n",
    "            shift = ord('A') if char.isupper() else ord('a')\n",
    "            char_code = ord(char)\n",
    "            char_code = shift + (char_code - shift + decalage) % 26\n",
    "            chiffre += chr(char_code)\n",
    "        else:\n",
    "            chiffre += char\n",
    "    return chiffre\n",
    "\n",
    "def dechiffrer_texte(texte, decalage):\n",
    "    return chiffrer_texte(texte, -decalage)\n",
    "\n",
    "# Test des fonctions de chiffrement et de déchiffrement\n",
    "texte_original = 'Bonjour !'\n",
    "cle = 4\n",
    "texte_chiffre = chiffrer_texte(texte_original, cle)\n",
    "print('Texte chiffré:', texte_chiffre)\n",
    "print('Texte déchiffré:', dechiffrer_texte(texte_chiffre, cle))"
   ]
  },
  {
   "cell_type": "markdown",
   "metadata": {},
   "source": [
    "## Partie II : Création d'une Interface Graphique"
   ]
  },
  {
   "cell_type": "markdown",
   "metadata": {},
   "source": [
    "Pour cette partie, nous utiliserons la bibliothèque Tkinter pour créer une interface graphique permettant de chiffrer et déchiffrer des fichiers textes."
   ]
  },
  {
   "cell_type": "code",
   "execution_count": null,
   "metadata": {},
   "outputs": [],
   "source": [
    "import tkinter as tk\n",
    "from tkinter import filedialog, messagebox, simpledialog\n",
    "\n",
    "def charger_fichier():\n",
    "    chemin = filedialog.askopenfilename()\n",
    "    with open(chemin, 'r', encoding='utf-8') as f:\n",
    "        contenu = f.read()\n",
    "    return contenu\n",
    "\n",
    "def sauvegarder_fichier(contenu):\n",
    "    chemin = filedialog.asksaveasfilename(defaultextension='.txt')\n",
    "    with open(chemin, 'w', encoding='utf-8') as f:\n",
    "        f.write(contenu)\n",
    "\n",
    "def appliquer_chiffrement():\n",
    "    decalage = simpledialog.askinteger('Décalage', 'Entrez le décalage pour le chiffrement:')\n",
    "    contenu = charger_fichier()\n",
    "    contenu_chiffre = chiffrer_texte(contenu, decalage)\n",
    "    sauvegarder_fichier(contenu_chiffre)\n",
    "    messagebox.showinfo('Succès', 'Le fichier a été chiffré et sauvegardé avec succès.')\n",
    "\n",
    "def appliquer_dechiffrement():\n",
    "    decalage = simpledialog.askinteger('Décalage', 'Entrez le décalage pour le déchiffrement:')\n",
    "    contenu = charger_fichier()\n",
    "    contenu_dechiffre = dechiffrer_texte(contenu, decalage)\n",
    "    sauvegarder_fichier(contenu_dechiffre)\n",
    "    messagebox.showinfo('Succès', 'Le fichier a été déchiffré et sauvegardé avec succès.')\n",
    "\n",
    "app = tk.Tk()\n",
    "app.title('Chiffrement de César')\n",
    "\n",
    "btn_chiffrer = tk.Button(app, text='Chiffrer un fichier', command=appliquer_chiffrement)\n",
    "btn_chiffrer.pack(pady=20)\n",
    "\n",
    "btn_dechiffrer = tk.Button(app, text='Déchiffrer un fichier', command=appliquer_dechiffrement)\n",
    "btn_dechiffrer.pack(pady=20)\n",
    "\n",
    "app.mainloop()"
   ]
  }
 ],
 "metadata": {
  "kernelspec": {
   "display_name": "lfm",
   "language": "python",
   "name": "python3"
  },
  "language_info": {
   "codemirror_mode": {
    "name": "ipython",
    "version": 3
   },
   "file_extension": ".py",
   "mimetype": "text/x-python",
   "name": "python",
   "nbconvert_exporter": "python",
   "pygments_lexer": "ipython3",
   "version": "3.11.6"
  }
 },
 "nbformat": 4,
 "nbformat_minor": 4
}
