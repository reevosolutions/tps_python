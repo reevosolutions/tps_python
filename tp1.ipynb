{
    "cells": [
        {
            "cell_type": "markdown",
            "metadata": {},
            "source": [
                "# TP1 : Récursivité, Recherche Dichotomique et Algorithmes de Tri en Python\n",
                "\n",
                "## 1. La récursivité\n",
                "\n",
                "### Fonction Factorielle (Fact)"
            ]
        },
        {
            "cell_type": "code",
            "execution_count": 16,
            "metadata": {},
            "outputs": [
                {
                    "name": "stdout",
                    "output_type": "stream",
                    "text": [
                        "Factorielle de 5 est : 120\n"
                    ]
                }
            ],
            "source": [
                "def factorielle(n):\n",
                "    if n == 0:\n",
                "        return 1  # Cas de base : factorielle de 0 est 1\n",
                "    else:\n",
                "        return n * factorielle(n-1)  # Appel récursif\n",
                "\n",
                "# Test de la fonction factorielle\n",
                "print(\"Factorielle de 5 est :\", factorielle(5))  # Résultat attendu : 120"
            ]
        },
        {
            "cell_type": "markdown",
            "metadata": {},
            "source": [
                "### Fonction Fibonacci (Fibo)"
            ]
        },
        {
            "cell_type": "code",
            "execution_count": 17,
            "metadata": {},
            "outputs": [
                {
                    "name": "stdout",
                    "output_type": "stream",
                    "text": [
                        "10ème élément de la suite de Fibonacci est : 55\n"
                    ]
                }
            ],
            "source": [
                "def fibonacci(m):\n",
                "    if m == 0 or m == 1:\n",
                "        return 1  # Cas de base : les deux premiers termes valent 1\n",
                "    else:\n",
                "        return fibonacci(m-1) + fibonacci(m-2)  # Appel récursif pour somme des deux termes précédents\n",
                "\n",
                "# Test de la fonction fibonacci\n",
                "print(\"10ème élément de la suite de Fibonacci est :\", fibonacci(9))  # Résultat attendu : 55"
            ]
        },
        {
            "cell_type": "markdown",
            "metadata": {},
            "source": [
                "### Fonction PGCD (Algorithme d’Euclide)"
            ]
        },
        {
            "cell_type": "code",
            "execution_count": 18,
            "metadata": {},
            "outputs": [
                {
                    "name": "stdout",
                    "output_type": "stream",
                    "text": [
                        "PGCD de 48 et 18 est : 6\n"
                    ]
                }
            ],
            "source": [
                "def pgcd(a, b):\n",
                "    if b == 0:\n",
                "        return a  # Si b vaut 0, on retourne a\n",
                "    else:\n",
                "        return pgcd(b, a % b)  # Sinon, on continue l'appel récursif avec (b, reste de la division a par b)\n",
                "\n",
                "# Test de la fonction PGCD\n",
                "print(\"PGCD de 48 et 18 est :\", pgcd(48, 18))  # Résultat attendu : 6"
            ]
        },
        {
            "cell_type": "markdown",
            "metadata": {},
            "source": [
                "## 2. Recherche Dichotomique"
            ]
        },
        {
            "cell_type": "code",
            "execution_count": 19,
            "metadata": {},
            "outputs": [
                {
                    "name": "stdout",
                    "output_type": "stream",
                    "text": [
                        "Recherche de l'élément 25 : 25\n",
                        "Recherche de l'élément 60 : False\n"
                    ]
                }
            ],
            "source": [
                "def recherche_dichotomique(e, L):\n",
                "    debut = 0\n",
                "    fin = len(L) - 1\n",
                "    \n",
                "    while debut <= fin:\n",
                "        milieu = (debut + fin) // 2\n",
                "        if L[milieu] == e:\n",
                "            return milieu  # Élément trouvé, retourne l'indice\n",
                "        elif L[milieu] < e:\n",
                "            debut = milieu + 1  # Recherche dans la moitié supérieure\n",
                "        else:\n",
                "            fin = milieu - 1  # Recherche dans la moitié inférieure\n",
                "    return False  # Élément non trouvé\n",
                "\n",
                "# Test de la recherche dichotomique\n",
                "liste = list(range(51))  # Liste triée de 0 à 50\n",
                "print(\"Recherche de l'élément 25 :\", recherche_dichotomique(25, liste))  # Résultat attendu : 25\n",
                "print(\"Recherche de l'élément 60 :\", recherche_dichotomique(60, liste))  # Résultat attendu : False"
            ]
        },
        {
            "cell_type": "markdown",
            "metadata": {},
            "source": [
                "## 3. Algorithmes de Tri\n",
                "\n",
                "### Tri à bulles"
            ]
        },
        {
            "cell_type": "code",
            "execution_count": 20,
            "metadata": {},
            "outputs": [
                {
                    "name": "stdout",
                    "output_type": "stream",
                    "text": [
                        "Liste triée par tri à bulles : [11, 12, 22, 25, 34, 64, 90]\n"
                    ]
                }
            ],
            "source": [
                "def tri_bulles(L):\n",
                "    n = len(L)\n",
                "    for i in range(n):\n",
                "        for j in range(0, n - i - 1):\n",
                "            if L[j] > L[j + 1]:\n",
                "                L[j], L[j+1] = L[j+1], L[j]  # Échange les éléments adjacents si dans le mauvais ordre\n",
                "    return L\n",
                "\n",
                "# Test du tri à bulles\n",
                "liste = [64, 34, 25, 12, 22, 11, 90]\n",
                "print(\"Liste triée par tri à bulles :\", tri_bulles(liste))  # Résultat attendu : [11, 12, 22, 25, 34, 64, 90]"
            ]
        },
        {
            "cell_type": "markdown",
            "metadata": {},
            "source": [
                "### Tri par sélection"
            ]
        },
        {
            "cell_type": "code",
            "execution_count": 21,
            "metadata": {},
            "outputs": [
                {
                    "name": "stdout",
                    "output_type": "stream",
                    "text": [
                        "Liste triée par tri par sélection : [11, 12, 22, 25, 34, 64, 90]\n"
                    ]
                }
            ],
            "source": [
                "def tri_selection(L):\n",
                "    n = len(L)\n",
                "    for i in range(n):\n",
                "        min_idx = i  # Trouver l'indice du minimum restant\n",
                "        for j in range(i + 1, n):\n",
                "            if L[j] < L[min_idx]:\n",
                "                min_idx = j\n",
                "        L[i], L[min_idx] = L[min_idx], L[i]  # Échange le minimum trouvé avec le premier élément\n",
                "    return L\n",
                "\n",
                "# Test du tri par sélection\n",
                "liste = [64, 34, 25, 12, 22, 11, 90]\n",
                "print(\"Liste triée par tri par sélection :\", tri_selection(liste))  # Résultat attendu : [11, 12, 22, 25, 34, 64, 90]"
            ]
        },
        {
            "cell_type": "markdown",
            "metadata": {},
            "source": [
                "### Tri par fusion (Merge Sort)"
            ]
        },
        {
            "cell_type": "code",
            "execution_count": 22,
            "metadata": {},
            "outputs": [
                {
                    "name": "stdout",
                    "output_type": "stream",
                    "text": [
                        "Liste triée par tri par fusion : [11, 12, 22, 25, 34, 64, 90]\n"
                    ]
                }
            ],
            "source": [
                "def tri_fusion(L):\n",
                "    if len(L) > 1:\n",
                "        milieu = len(L) // 2\n",
                "        gauche = L[:milieu]  # Séparer la moitié gauche\n",
                "        droite = L[milieu:]  # Séparer la moitié droite\n",
                "\n",
                "        tri_fusion(gauche)  # Trier récursivement la moitié gauche\n",
                "        tri_fusion(droite)  # Trier récursivement la moitié droite\n",
                "\n",
                "        i = j = k = 0\n",
                "\n",
                "        # Fusionner les deux moitiés triées\n",
                "        while i < len(gauche) and j < len(droite):\n",
                "            if gauche[i] < droite[j]:\n",
                "                L[k] = gauche[i]\n",
                "                i += 1\n",
                "            else:\n",
                "                L[k] = droite[j]\n",
                "                j += 1\n",
                "            k += 1\n",
                "\n",
                "        # Copier les éléments restants de gauche, s'il en reste\n",
                "        while i < len(gauche):\n",
                "            L[k] = gauche[i]\n",
                "            i += 1\n",
                "            k += 1\n",
                "\n",
                "        # Copier les éléments restants de droite, s'il en reste\n",
                "        while j < len(droite):\n",
                "            L[k] = droite[j]\n",
                "            j += 1\n",
                "            k += 1\n",
                "    return L\n",
                "\n",
                "# Test du tri par fusion\n",
                "liste = [64, 34, 25, 12, 22, 11, 90]\n",
                "print(\"Liste triée par tri par fusion :\", tri_fusion(liste))  # Résultat attendu : [11, 12, 22, 25, 34, 64, 90]"
            ]
        }
    ],
    "metadata": {
        "kernelspec": {
            "display_name": "lfm",
            "language": "python",
            "name": "python3"
        },
        "language_info": {
            "codemirror_mode": {
                "name": "ipython",
                "version": 3
            },
            "file_extension": ".py",
            "mimetype": "text/x-python",
            "name": "python",
            "nbconvert_exporter": "python",
            "pygments_lexer": "ipython3",
            "version": "3.11.6"
        }
    },
    "nbformat": 4,
    "nbformat_minor": 4
}
